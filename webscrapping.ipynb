{
  "nbformat": 4,
  "nbformat_minor": 0,
  "metadata": {
    "colab": {
      "provenance": [],
      "authorship_tag": "ABX9TyOwrrJxLUKN26hubXgGO+V/",
      "include_colab_link": true
    },
    "kernelspec": {
      "name": "python3",
      "display_name": "Python 3"
    },
    "language_info": {
      "name": "python"
    }
  },
  "cells": [
    {
      "cell_type": "markdown",
      "metadata": {
        "id": "view-in-github",
        "colab_type": "text"
      },
      "source": [
        "<a href=\"https://colab.research.google.com/github/yess-wee/DAUP/blob/main/webscrapping.ipynb\" target=\"_parent\"><img src=\"https://colab.research.google.com/assets/colab-badge.svg\" alt=\"Open In Colab\"/></a>"
      ]
    },
    {
      "cell_type": "code",
      "execution_count": 1,
      "metadata": {
        "id": "gzFKfOqTvQ26"
      },
      "outputs": [],
      "source": [
        "#web scrapping\n"
      ]
    },
    {
      "cell_type": "code",
      "source": [
        "import pandas as pd\n",
        "from bs4 import BeautifulSoup\n",
        "import requests\n"
      ],
      "metadata": {
        "id": "oW2gWd14vTBL"
      },
      "execution_count": 19,
      "outputs": []
    },
    {
      "cell_type": "code",
      "source": [
        "url = \"https://www.flipkart.com/samsung-mobile-store?otracker=nmenu_sub_Electronics_0_Samsung\""
      ],
      "metadata": {
        "id": "KwrqF7i6vcP-"
      },
      "execution_count": 20,
      "outputs": []
    },
    {
      "cell_type": "code",
      "source": [
        "html = requests.get(url)"
      ],
      "metadata": {
        "id": "RQWkN0Acw2BX"
      },
      "execution_count": 21,
      "outputs": []
    },
    {
      "cell_type": "code",
      "source": [
        "s = BeautifulSoup(html.content,'html.parser')"
      ],
      "metadata": {
        "id": "-xCNtEHRw6K2"
      },
      "execution_count": 22,
      "outputs": []
    },
    {
      "cell_type": "code",
      "source": [
        "print(s.prettify())"
      ],
      "metadata": {
        "colab": {
          "base_uri": "https://localhost:8080/"
        },
        "id": "xdGt27v7xE2F",
        "outputId": "9228ebce-7095-4782-9e20-499ff1bc0220"
      },
      "execution_count": 24,
      "outputs": [
        {
          "output_type": "stream",
          "name": "stdout",
          "text": [
            "<html>\n",
            " <body>\n",
            "  <h1>\n",
            "   500 Internal Server Error\n",
            "  </h1>\n",
            "  An internal server error occurred.\n",
            " </body>\n",
            "</html>\n",
            "\n"
          ]
        }
      ]
    },
    {
      "cell_type": "code",
      "source": [
        "s.get_text()"
      ],
      "metadata": {
        "colab": {
          "base_uri": "https://localhost:8080/",
          "height": 36
        },
        "id": "83nxUXksxngO",
        "outputId": "d423750c-c386-4ccd-c2a9-2106bc62519b"
      },
      "execution_count": 25,
      "outputs": [
        {
          "output_type": "execute_result",
          "data": {
            "text/plain": [
              "'500 Internal Server Error\\nAn internal server error occurred.\\n\\n'"
            ],
            "application/vnd.google.colaboratory.intrinsic+json": {
              "type": "string"
            }
          },
          "metadata": {},
          "execution_count": 25
        }
      ]
    },
    {
      "cell_type": "code",
      "source": [
        "result = s.h1\n",
        "print(result.prettify())"
      ],
      "metadata": {
        "colab": {
          "base_uri": "https://localhost:8080/"
        },
        "id": "PpkQb4-TyBau",
        "outputId": "c5d4d2a7-6a5a-466a-e60b-d75862528eab"
      },
      "execution_count": 28,
      "outputs": [
        {
          "output_type": "stream",
          "name": "stdout",
          "text": [
            "<h1>\n",
            " 500 Internal Server Error\n",
            "</h1>\n",
            "\n"
          ]
        }
      ]
    },
    {
      "cell_type": "code",
      "source": [
        "result = find(id = \" \")\n",
        "jobtitle = result.find_all('h2', class_ = ' ')\n",
        "\n",
        "\n",
        "for job in job_title:\n",
        "  print(job.text)"
      ],
      "metadata": {
        "id": "NWp_rBA9yHr2"
      },
      "execution_count": null,
      "outputs": []
    }
  ]
}