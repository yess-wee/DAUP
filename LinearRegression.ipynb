{
  "metadata": {
    "kernelspec": {
      "name": "python",
      "display_name": "Python (Pyodide)",
      "language": "python"
    },
    "language_info": {
      "codemirror_mode": {
        "name": "python",
        "version": 3
      },
      "file_extension": ".py",
      "mimetype": "text/x-python",
      "name": "python",
      "nbconvert_exporter": "python",
      "pygments_lexer": "ipython3",
      "version": "3.8"
    }
  },
  "nbformat_minor": 4,
  "nbformat": 4,
  "cells": [
    {
      "cell_type": "code",
      "source": "#: To perform Regression analysis using Sci-kit learn package in python.",
      "metadata": {
        "trusted": true
      },
      "outputs": [],
      "execution_count": 1
    },
    {
      "cell_type": "code",
      "source": "import numpy as np\nimport pandas as pd\nimport matplotlib.pyplot as plt\nfrom sklearn import preprocessing,svm\nfrom sklearn.model_selection import train_test_split\nfrom sklearn.linear_model import LinearRegression\n",
      "metadata": {
        "trusted": true
      },
      "outputs": [],
      "execution_count": 3
    },
    {
      "cell_type": "code",
      "source": "details_df = pd.read_csv(\"Details.csv\")\nplacement_df = pd.read_csv(\"Placement.csv\")",
      "metadata": {
        "trusted": true
      },
      "outputs": [],
      "execution_count": 7
    },
    {
      "cell_type": "code",
      "source": "print(details_df)\nprint(placement_df)",
      "metadata": {
        "trusted": true
      },
      "outputs": [
        {
          "name": "stdout",
          "text": "    Roll No.  Age  Weight Branch  Gender  SSC Result  HSC Result  \\\n0        201   21      78    MBA    Male       86.16       93.60   \n1        202   21      72    MBA    Male       95.50       86.92   \n2        203   21      80    MBA    Male       92.50       88.46   \n3        204   20      75    BCA    Male       82.66       75.38   \n4        205   20      61    BCA  Female       91.00       79.07   \n5        206   21      78    MBA    Male       91.00       74.46   \n6        207   21      72    BCA    Male       89.00       79.53   \n7        208   22      80    MBA    Male       78.83       78.15   \n8        209   22      75    BCA    Male       93.67       81.23   \n9        210   21      80    MBA    Male       93.00       83.53   \n10       211   20      78    MBA    Male       80.83       82.61   \n11       212   20      72    MBA    Male       93.66       79.53   \n12       213   22      80    MBA    Male       81.67       78.16   \n13       214   21      75    BCA    Male       93.33       75.16   \n14       215   21      76    BCA    Male       85.33       78.15   \n15       216   20      58    MBA  Female       83.67       71.85   \n16       217   22      78    BCA    Male       93.16       73.54   \n17       218   20      72    MBA    Male       88.66       81.69   \n18       219   20      80    BCA    Male       91.83       85.08   \n19       220   21      75    MBA    Male       74.50       73.70   \n20       221   21      56    MBA  Female       93.17       80.67   \n21       222   22      75    MBA    Male       76.50         NaN   \n22       223   22      58    MBA  Female       80.67       76.15   \n23       224   20      78    BCA    Male       93.33       81.69   \n24       225   21      72    BCA    Male       83.33       70.76   \n25       226   21      80    MBA    Male       90.00       75.07   \n26       227   22      75    BCA    Male       92.50       76.00   \n27       228   22      76    MBA    Male       75.33       73.23   \n28       229   21      52    BCA  Female       88.50       80.15   \n29       230   20      75    MBA    Male       88.50       80.15   \n30       231   20      62    MBA    Male       75.33       73.23   \n31       232   22      56    BCA  Female       83.67       71.85   \n32       233   21      68    MBA    Male       80.83       82.61   \n33       234   21      62    BCA    Male       78.83       78.15   \n34       235   20      60    MBA    Male       91.00       74.46   \n\n    Diploma Result  Sem 1  Sem 2  Sem 3  Sem 4  Sem 5  Sem 6  Avg SPI   CPI  \n0              NaN   9.58   9.17   9.40   8.70   9.42   9.42     9.28  9.23  \n1              NaN   9.53   9.07   9.40   9.04   9.00   8.85     9.15  9.07  \n2              NaN   9.36   9.53   9.16   8.96   9.00   9.00     9.17  9.03  \n3              NaN   9.58   9.43   9.52   8.52   8.42   8.96     9.07  8.85  \n4              NaN   9.25   8.93   9.12   8.48   8.38   8.81     8.83  8.70  \n5              NaN   9.02   8.83   9.16   8.22   8.79   8.65     8.78  8.70  \n6              NaN   9.13   8.93   9.40   8.04   8.00   9.04     8.76  8.62  \n7              NaN   9.40   8.87   9.00   8.37   8.38   8.42     8.74   NaN  \n8              NaN   8.76   9.07   8.60   8.19   8.38   8.81     8.64  8.49  \n9              NaN   8.80   8.93   9.12   7.85   8.58   8.42     8.62  8.48  \n10             NaN   9.11   8.70   8.92   8.15   8.58   8.23     8.62  8.46  \n11             NaN   8.87   9.27   8.96   8.15   8.38   8.27     8.65  8.43  \n12             NaN   9.25   9.03   9.16    NaN   8.38   8.65     8.67  8.42  \n13             NaN   8.25   8.33   7.76   7.96   8.79   9.00     8.35  8.37  \n14             NaN   8.91   8.93   9.16   8.19   7.58   7.85     8.44  8.20  \n15             NaN   8.71   9.27   9.20   7.74   7.83   7.85     8.43  8.15  \n16             NaN   8.60   8.80   9.16   7.48   7.79   8.19     8.34  8.15  \n17             NaN   9.02   9.17   8.56   7.52   8.17   8.23     8.45  8.11  \n18             NaN   9.05   8.83   8.96   7.59   7.83   7.81     8.35  8.04  \n19             NaN   9.40   9.10   9.20   7.00   7.79   8.23     8.45  8.04  \n20             NaN   8.18   8.07   8.80   7.11   7.58   8.27     8.00  7.93  \n21            94.2    NaN    NaN   8.44   7.78   7.38   8.04     7.91  7.91  \n22             NaN   8.64   8.93   8.76   7.30   7.58   7.85     8.18  7.86  \n23             NaN   8.91   8.60   8.44   7.67   7.54   7.81     8.16  7.86  \n24             NaN   9.15   8.67   8.76   7.11   7.21   7.85     8.13  7.73  \n25             NaN   8.09   8.43   8.60   7.30   7.17   7.04     7.77   NaN  \n26             NaN   8.24   8.13   7.60   7.15   7.17   7.42     7.62  7.33  \n27             NaN   8.73   8.80   8.56   6.33   6.79   7.12     7.72  7.19  \n28             NaN   7.05   7.40   7.04   6.63   6.79   7.42     7.06  6.97  \n29             NaN   7.05   7.40   7.04   6.63   6.79   7.42     7.06  6.97  \n30             NaN   8.73   8.80   8.56   6.33   6.79   7.12     7.72   NaN  \n31             NaN   8.71   9.27   9.20   7.74   7.83   7.85     8.43  8.15  \n32             NaN   9.11   8.70   8.92   8.15   8.58   8.23     8.62  8.46  \n33             NaN   9.40   8.87   9.00   8.37   8.38   8.42     8.74  8.54  \n34             NaN   9.02   8.83   9.16   8.22   8.79   8.65     8.78  8.70  \n    Roll No. Placed\n0        201    Yes\n1        202    Yes\n2        203     No\n3        204     No\n4        205     No\n5        206    Yes\n6        207    Yes\n7        208    Yes\n8        209    Yes\n9        210    Yes\n10       211    Yes\n11       212    Yes\n12       213    Yes\n13       214    Yes\n14       215    Yes\n15       216    Yes\n16       217    Yes\n17       218     No\n18       219     No\n19       220    Yes\n20       221    Yes\n21       222     No\n22       223    Yes\n23       224    Yes\n24       225    Yes\n25       226    Yes\n26       227     No\n27       228    Yes\n28       229    Yes\n29       230    Yes\n30       231    Yes\n31       232    Yes\n32       233    Yes\n33       234    Yes\n34       235    Yes\n",
          "output_type": "stream"
        }
      ],
      "execution_count": 10
    },
    {
      "cell_type": "markdown",
      "source": "#merge both csv\n\nall = pd.merge(details_df, placement_df, on=\"Roll No.\",how=\"outer\")\n# print(all)\n\nprint(all.head)\n",
      "metadata": {}
    },
    {
      "cell_type": "code",
      "source": "#converting into an array\n\nX = np.array(all['Sem 5']).reshape(-1,1)\ny = np.array(all['Sem 6']).reshape(-1,1)",
      "metadata": {
        "trusted": true
      },
      "outputs": [],
      "execution_count": 19
    },
    {
      "cell_type": "code",
      "source": "X_train,X_test,y_train,y_test = train_test_split(X,y,test_size=0.5)",
      "metadata": {
        "trusted": true
      },
      "outputs": [],
      "execution_count": 21
    },
    {
      "cell_type": "code",
      "source": "regr = LinearRegression()",
      "metadata": {
        "trusted": true
      },
      "outputs": [],
      "execution_count": 24
    },
    {
      "cell_type": "code",
      "source": "#training model\nregr.fit(X_train,y_train)",
      "metadata": {
        "trusted": true
      },
      "outputs": [
        {
          "execution_count": 27,
          "output_type": "execute_result",
          "data": {
            "text/plain": "LinearRegression()",
            "text/html": "<style>#sk-container-id-3 {color: black;}#sk-container-id-3 pre{padding: 0;}#sk-container-id-3 div.sk-toggleable {background-color: white;}#sk-container-id-3 label.sk-toggleable__label {cursor: pointer;display: block;width: 100%;margin-bottom: 0;padding: 0.3em;box-sizing: border-box;text-align: center;}#sk-container-id-3 label.sk-toggleable__label-arrow:before {content: \"▸\";float: left;margin-right: 0.25em;color: #696969;}#sk-container-id-3 label.sk-toggleable__label-arrow:hover:before {color: black;}#sk-container-id-3 div.sk-estimator:hover label.sk-toggleable__label-arrow:before {color: black;}#sk-container-id-3 div.sk-toggleable__content {max-height: 0;max-width: 0;overflow: hidden;text-align: left;background-color: #f0f8ff;}#sk-container-id-3 div.sk-toggleable__content pre {margin: 0.2em;color: black;border-radius: 0.25em;background-color: #f0f8ff;}#sk-container-id-3 input.sk-toggleable__control:checked~div.sk-toggleable__content {max-height: 200px;max-width: 100%;overflow: auto;}#sk-container-id-3 input.sk-toggleable__control:checked~label.sk-toggleable__label-arrow:before {content: \"▾\";}#sk-container-id-3 div.sk-estimator input.sk-toggleable__control:checked~label.sk-toggleable__label {background-color: #d4ebff;}#sk-container-id-3 div.sk-label input.sk-toggleable__control:checked~label.sk-toggleable__label {background-color: #d4ebff;}#sk-container-id-3 input.sk-hidden--visually {border: 0;clip: rect(1px 1px 1px 1px);clip: rect(1px, 1px, 1px, 1px);height: 1px;margin: -1px;overflow: hidden;padding: 0;position: absolute;width: 1px;}#sk-container-id-3 div.sk-estimator {font-family: monospace;background-color: #f0f8ff;border: 1px dotted black;border-radius: 0.25em;box-sizing: border-box;margin-bottom: 0.5em;}#sk-container-id-3 div.sk-estimator:hover {background-color: #d4ebff;}#sk-container-id-3 div.sk-parallel-item::after {content: \"\";width: 100%;border-bottom: 1px solid gray;flex-grow: 1;}#sk-container-id-3 div.sk-label:hover label.sk-toggleable__label {background-color: #d4ebff;}#sk-container-id-3 div.sk-serial::before {content: \"\";position: absolute;border-left: 1px solid gray;box-sizing: border-box;top: 0;bottom: 0;left: 50%;z-index: 0;}#sk-container-id-3 div.sk-serial {display: flex;flex-direction: column;align-items: center;background-color: white;padding-right: 0.2em;padding-left: 0.2em;position: relative;}#sk-container-id-3 div.sk-item {position: relative;z-index: 1;}#sk-container-id-3 div.sk-parallel {display: flex;align-items: stretch;justify-content: center;background-color: white;position: relative;}#sk-container-id-3 div.sk-item::before, #sk-container-id-3 div.sk-parallel-item::before {content: \"\";position: absolute;border-left: 1px solid gray;box-sizing: border-box;top: 0;bottom: 0;left: 50%;z-index: -1;}#sk-container-id-3 div.sk-parallel-item {display: flex;flex-direction: column;z-index: 1;position: relative;background-color: white;}#sk-container-id-3 div.sk-parallel-item:first-child::after {align-self: flex-end;width: 50%;}#sk-container-id-3 div.sk-parallel-item:last-child::after {align-self: flex-start;width: 50%;}#sk-container-id-3 div.sk-parallel-item:only-child::after {width: 0;}#sk-container-id-3 div.sk-dashed-wrapped {border: 1px dashed gray;margin: 0 0.4em 0.5em 0.4em;box-sizing: border-box;padding-bottom: 0.4em;background-color: white;}#sk-container-id-3 div.sk-label label {font-family: monospace;font-weight: bold;display: inline-block;line-height: 1.2em;}#sk-container-id-3 div.sk-label-container {text-align: center;}#sk-container-id-3 div.sk-container {/* jupyter's `normalize.less` sets `[hidden] { display: none; }` but bootstrap.min.css set `[hidden] { display: none !important; }` so we also need the `!important` here to be able to override the default hidden behavior on the sphinx rendered scikit-learn.org. See: https://github.com/scikit-learn/scikit-learn/issues/21755 */display: inline-block !important;position: relative;}#sk-container-id-3 div.sk-text-repr-fallback {display: none;}</style><div id=\"sk-container-id-3\" class=\"sk-top-container\"><div class=\"sk-text-repr-fallback\"><pre>LinearRegression()</pre><b>In a Jupyter environment, please rerun this cell to show the HTML representation or trust the notebook. <br />On GitHub, the HTML representation is unable to render, please try loading this page with nbviewer.org.</b></div><div class=\"sk-container\" hidden><div class=\"sk-item\"><div class=\"sk-estimator sk-toggleable\"><input class=\"sk-toggleable__control sk-hidden--visually\" id=\"sk-estimator-id-3\" type=\"checkbox\" checked><label for=\"sk-estimator-id-3\" class=\"sk-toggleable__label sk-toggleable__label-arrow\">LinearRegression</label><div class=\"sk-toggleable__content\"><pre>LinearRegression()</pre></div></div></div></div></div>"
          },
          "metadata": {}
        }
      ],
      "execution_count": 27
    },
    {
      "cell_type": "code",
      "source": "regr.score(X_test,y_test)",
      "metadata": {
        "trusted": true
      },
      "outputs": [
        {
          "execution_count": 29,
          "output_type": "execute_result",
          "data": {
            "text/plain": "0.7400457276726875"
          },
          "metadata": {}
        }
      ],
      "execution_count": 29
    },
    {
      "cell_type": "code",
      "source": "y_predict = regr.predict(X_test)\n\nprint(y_predict,y_test)",
      "metadata": {
        "trusted": true
      },
      "outputs": [
        {
          "name": "stdout",
          "text": "[[8.57263174]\n [8.57263174]\n [7.39204341]\n [8.16425213]\n [8.57263174]\n [7.39204341]\n [7.83012336]\n [8.72113342]\n [7.6741966 ]\n [8.16425213]\n [8.60233208]\n [8.57263174]\n [8.72113342]\n [8.16425213]\n [8.87706018]\n [7.97862504]\n [8.72113342]\n [9.34484047]] [[8.81]\n [8.42]\n [7.42]\n [7.85]\n [8.42]\n [7.12]\n [8.04]\n [8.23]\n [7.04]\n [7.85]\n [8.96]\n [8.65]\n [8.23]\n [7.81]\n [8.65]\n [7.85]\n [8.42]\n [9.42]]\n",
          "output_type": "stream"
        }
      ],
      "execution_count": 36
    },
    {
      "cell_type": "code",
      "source": "#custom",
      "metadata": {
        "trusted": true
      },
      "outputs": [],
      "execution_count": 37
    },
    {
      "cell_type": "code",
      "source": "y = np.array([9.58,9.43,9.52,8.52,8.42]).reshape(-1,1)\nX = np.array([1,2,3,4,5]).reshape(-1,1)\nmodel = LinearRegression()",
      "metadata": {
        "trusted": true
      },
      "outputs": [],
      "execution_count": 39
    },
    {
      "cell_type": "code",
      "source": "model.fit(X,y)",
      "metadata": {
        "trusted": true
      },
      "outputs": [
        {
          "execution_count": 42,
          "output_type": "execute_result",
          "data": {
            "text/plain": "LinearRegression()",
            "text/html": "<style>#sk-container-id-6 {color: black;}#sk-container-id-6 pre{padding: 0;}#sk-container-id-6 div.sk-toggleable {background-color: white;}#sk-container-id-6 label.sk-toggleable__label {cursor: pointer;display: block;width: 100%;margin-bottom: 0;padding: 0.3em;box-sizing: border-box;text-align: center;}#sk-container-id-6 label.sk-toggleable__label-arrow:before {content: \"▸\";float: left;margin-right: 0.25em;color: #696969;}#sk-container-id-6 label.sk-toggleable__label-arrow:hover:before {color: black;}#sk-container-id-6 div.sk-estimator:hover label.sk-toggleable__label-arrow:before {color: black;}#sk-container-id-6 div.sk-toggleable__content {max-height: 0;max-width: 0;overflow: hidden;text-align: left;background-color: #f0f8ff;}#sk-container-id-6 div.sk-toggleable__content pre {margin: 0.2em;color: black;border-radius: 0.25em;background-color: #f0f8ff;}#sk-container-id-6 input.sk-toggleable__control:checked~div.sk-toggleable__content {max-height: 200px;max-width: 100%;overflow: auto;}#sk-container-id-6 input.sk-toggleable__control:checked~label.sk-toggleable__label-arrow:before {content: \"▾\";}#sk-container-id-6 div.sk-estimator input.sk-toggleable__control:checked~label.sk-toggleable__label {background-color: #d4ebff;}#sk-container-id-6 div.sk-label input.sk-toggleable__control:checked~label.sk-toggleable__label {background-color: #d4ebff;}#sk-container-id-6 input.sk-hidden--visually {border: 0;clip: rect(1px 1px 1px 1px);clip: rect(1px, 1px, 1px, 1px);height: 1px;margin: -1px;overflow: hidden;padding: 0;position: absolute;width: 1px;}#sk-container-id-6 div.sk-estimator {font-family: monospace;background-color: #f0f8ff;border: 1px dotted black;border-radius: 0.25em;box-sizing: border-box;margin-bottom: 0.5em;}#sk-container-id-6 div.sk-estimator:hover {background-color: #d4ebff;}#sk-container-id-6 div.sk-parallel-item::after {content: \"\";width: 100%;border-bottom: 1px solid gray;flex-grow: 1;}#sk-container-id-6 div.sk-label:hover label.sk-toggleable__label {background-color: #d4ebff;}#sk-container-id-6 div.sk-serial::before {content: \"\";position: absolute;border-left: 1px solid gray;box-sizing: border-box;top: 0;bottom: 0;left: 50%;z-index: 0;}#sk-container-id-6 div.sk-serial {display: flex;flex-direction: column;align-items: center;background-color: white;padding-right: 0.2em;padding-left: 0.2em;position: relative;}#sk-container-id-6 div.sk-item {position: relative;z-index: 1;}#sk-container-id-6 div.sk-parallel {display: flex;align-items: stretch;justify-content: center;background-color: white;position: relative;}#sk-container-id-6 div.sk-item::before, #sk-container-id-6 div.sk-parallel-item::before {content: \"\";position: absolute;border-left: 1px solid gray;box-sizing: border-box;top: 0;bottom: 0;left: 50%;z-index: -1;}#sk-container-id-6 div.sk-parallel-item {display: flex;flex-direction: column;z-index: 1;position: relative;background-color: white;}#sk-container-id-6 div.sk-parallel-item:first-child::after {align-self: flex-end;width: 50%;}#sk-container-id-6 div.sk-parallel-item:last-child::after {align-self: flex-start;width: 50%;}#sk-container-id-6 div.sk-parallel-item:only-child::after {width: 0;}#sk-container-id-6 div.sk-dashed-wrapped {border: 1px dashed gray;margin: 0 0.4em 0.5em 0.4em;box-sizing: border-box;padding-bottom: 0.4em;background-color: white;}#sk-container-id-6 div.sk-label label {font-family: monospace;font-weight: bold;display: inline-block;line-height: 1.2em;}#sk-container-id-6 div.sk-label-container {text-align: center;}#sk-container-id-6 div.sk-container {/* jupyter's `normalize.less` sets `[hidden] { display: none; }` but bootstrap.min.css set `[hidden] { display: none !important; }` so we also need the `!important` here to be able to override the default hidden behavior on the sphinx rendered scikit-learn.org. See: https://github.com/scikit-learn/scikit-learn/issues/21755 */display: inline-block !important;position: relative;}#sk-container-id-6 div.sk-text-repr-fallback {display: none;}</style><div id=\"sk-container-id-6\" class=\"sk-top-container\"><div class=\"sk-text-repr-fallback\"><pre>LinearRegression()</pre><b>In a Jupyter environment, please rerun this cell to show the HTML representation or trust the notebook. <br />On GitHub, the HTML representation is unable to render, please try loading this page with nbviewer.org.</b></div><div class=\"sk-container\" hidden><div class=\"sk-item\"><div class=\"sk-estimator sk-toggleable\"><input class=\"sk-toggleable__control sk-hidden--visually\" id=\"sk-estimator-id-6\" type=\"checkbox\" checked><label for=\"sk-estimator-id-6\" class=\"sk-toggleable__label sk-toggleable__label-arrow\">LinearRegression</label><div class=\"sk-toggleable__content\"><pre>LinearRegression()</pre></div></div></div></div></div>"
          },
          "metadata": {}
        }
      ],
      "execution_count": 42
    },
    {
      "cell_type": "code",
      "source": "model.predict([[6]])",
      "metadata": {
        "trusted": true
      },
      "outputs": [
        {
          "execution_count": 45,
          "output_type": "execute_result",
          "data": {
            "text/plain": "array([[8.125]])"
          },
          "metadata": {}
        }
      ],
      "execution_count": 45
    },
    {
      "cell_type": "code",
      "source": "#filling null values",
      "metadata": {
        "trusted": true
      },
      "outputs": [],
      "execution_count": 47
    },
    {
      "cell_type": "code",
      "source": "all[\"CPI\"].fillna(8,inplace=True)\nall[\"SSC Result\"].fillna(80,inplace=True)\nall[\"HSC Result\"].fillna(80,inplace=True)\nall[\"Sem 1\"].fillna(8,inplace=True)\nall[\"Sem 2\"].fillna(8,inplace=True)\nall[\"Sem 3\"].fillna(8,inplace=True)\nall[\"Sem 4\"].fillna(8,inplace=True)\nall[\"Sem 5\"].fillna(8,inplace=True)\nall[\"Sem 6\"].fillna(8,inplace=True)",
      "metadata": {
        "trusted": true
      },
      "outputs": [],
      "execution_count": 50
    },
    {
      "cell_type": "code",
      "source": "all.head()",
      "metadata": {
        "trusted": true
      },
      "outputs": [
        {
          "execution_count": 52,
          "output_type": "execute_result",
          "data": {
            "text/plain": "   Roll No.  Age  Weight Branch  Gender  SSC Result  HSC Result  \\\n0       201   21      78    MBA    Male       86.16       93.60   \n1       202   21      72    MBA    Male       95.50       86.92   \n2       203   21      80    MBA    Male       92.50       88.46   \n3       204   20      75    BCA    Male       82.66       75.38   \n4       205   20      61    BCA  Female       91.00       79.07   \n\n   Diploma Result  Sem 1  Sem 2  Sem 3  Sem 4  Sem 5  Sem 6  Avg SPI   CPI  \\\n0             NaN   9.58   9.17   9.40   8.70   9.42   9.42     9.28  9.23   \n1             NaN   9.53   9.07   9.40   9.04   9.00   8.85     9.15  9.07   \n2             NaN   9.36   9.53   9.16   8.96   9.00   9.00     9.17  9.03   \n3             NaN   9.58   9.43   9.52   8.52   8.42   8.96     9.07  8.85   \n4             NaN   9.25   8.93   9.12   8.48   8.38   8.81     8.83  8.70   \n\n  Placed  \n0    Yes  \n1    Yes  \n2     No  \n3     No  \n4     No  ",
            "text/html": "<div>\n<style scoped>\n    .dataframe tbody tr th:only-of-type {\n        vertical-align: middle;\n    }\n\n    .dataframe tbody tr th {\n        vertical-align: top;\n    }\n\n    .dataframe thead th {\n        text-align: right;\n    }\n</style>\n<table border=\"1\" class=\"dataframe\">\n  <thead>\n    <tr style=\"text-align: right;\">\n      <th></th>\n      <th>Roll No.</th>\n      <th>Age</th>\n      <th>Weight</th>\n      <th>Branch</th>\n      <th>Gender</th>\n      <th>SSC Result</th>\n      <th>HSC Result</th>\n      <th>Diploma Result</th>\n      <th>Sem 1</th>\n      <th>Sem 2</th>\n      <th>Sem 3</th>\n      <th>Sem 4</th>\n      <th>Sem 5</th>\n      <th>Sem 6</th>\n      <th>Avg SPI</th>\n      <th>CPI</th>\n      <th>Placed</th>\n    </tr>\n  </thead>\n  <tbody>\n    <tr>\n      <th>0</th>\n      <td>201</td>\n      <td>21</td>\n      <td>78</td>\n      <td>MBA</td>\n      <td>Male</td>\n      <td>86.16</td>\n      <td>93.60</td>\n      <td>NaN</td>\n      <td>9.58</td>\n      <td>9.17</td>\n      <td>9.40</td>\n      <td>8.70</td>\n      <td>9.42</td>\n      <td>9.42</td>\n      <td>9.28</td>\n      <td>9.23</td>\n      <td>Yes</td>\n    </tr>\n    <tr>\n      <th>1</th>\n      <td>202</td>\n      <td>21</td>\n      <td>72</td>\n      <td>MBA</td>\n      <td>Male</td>\n      <td>95.50</td>\n      <td>86.92</td>\n      <td>NaN</td>\n      <td>9.53</td>\n      <td>9.07</td>\n      <td>9.40</td>\n      <td>9.04</td>\n      <td>9.00</td>\n      <td>8.85</td>\n      <td>9.15</td>\n      <td>9.07</td>\n      <td>Yes</td>\n    </tr>\n    <tr>\n      <th>2</th>\n      <td>203</td>\n      <td>21</td>\n      <td>80</td>\n      <td>MBA</td>\n      <td>Male</td>\n      <td>92.50</td>\n      <td>88.46</td>\n      <td>NaN</td>\n      <td>9.36</td>\n      <td>9.53</td>\n      <td>9.16</td>\n      <td>8.96</td>\n      <td>9.00</td>\n      <td>9.00</td>\n      <td>9.17</td>\n      <td>9.03</td>\n      <td>No</td>\n    </tr>\n    <tr>\n      <th>3</th>\n      <td>204</td>\n      <td>20</td>\n      <td>75</td>\n      <td>BCA</td>\n      <td>Male</td>\n      <td>82.66</td>\n      <td>75.38</td>\n      <td>NaN</td>\n      <td>9.58</td>\n      <td>9.43</td>\n      <td>9.52</td>\n      <td>8.52</td>\n      <td>8.42</td>\n      <td>8.96</td>\n      <td>9.07</td>\n      <td>8.85</td>\n      <td>No</td>\n    </tr>\n    <tr>\n      <th>4</th>\n      <td>205</td>\n      <td>20</td>\n      <td>61</td>\n      <td>BCA</td>\n      <td>Female</td>\n      <td>91.00</td>\n      <td>79.07</td>\n      <td>NaN</td>\n      <td>9.25</td>\n      <td>8.93</td>\n      <td>9.12</td>\n      <td>8.48</td>\n      <td>8.38</td>\n      <td>8.81</td>\n      <td>8.83</td>\n      <td>8.70</td>\n      <td>No</td>\n    </tr>\n  </tbody>\n</table>\n</div>"
          },
          "metadata": {}
        }
      ],
      "execution_count": 52
    },
    {
      "cell_type": "code",
      "source": "#multiple regression",
      "metadata": {
        "trusted": true
      },
      "outputs": [],
      "execution_count": 53
    },
    {
      "cell_type": "code",
      "source": "# for sem6 and cpi\n#X independent y dependent\n\nX = np.array(all[\"Sem 6\"]).reshape(-1,1)\ny = np.array(all[\"CPI\"]).reshape(-1,1)\n\nX_train,X_test,y_train,y_test = train_test_split(X,y,test_size=0.25)\nmodel = LinearRegression()",
      "metadata": {
        "trusted": true
      },
      "outputs": [],
      "execution_count": 54
    },
    {
      "cell_type": "code",
      "source": "model.fit(X_train,y_train)",
      "metadata": {
        "trusted": true
      },
      "outputs": [
        {
          "execution_count": 57,
          "output_type": "execute_result",
          "data": {
            "text/plain": "LinearRegression()",
            "text/html": "<style>#sk-container-id-9 {color: black;}#sk-container-id-9 pre{padding: 0;}#sk-container-id-9 div.sk-toggleable {background-color: white;}#sk-container-id-9 label.sk-toggleable__label {cursor: pointer;display: block;width: 100%;margin-bottom: 0;padding: 0.3em;box-sizing: border-box;text-align: center;}#sk-container-id-9 label.sk-toggleable__label-arrow:before {content: \"▸\";float: left;margin-right: 0.25em;color: #696969;}#sk-container-id-9 label.sk-toggleable__label-arrow:hover:before {color: black;}#sk-container-id-9 div.sk-estimator:hover label.sk-toggleable__label-arrow:before {color: black;}#sk-container-id-9 div.sk-toggleable__content {max-height: 0;max-width: 0;overflow: hidden;text-align: left;background-color: #f0f8ff;}#sk-container-id-9 div.sk-toggleable__content pre {margin: 0.2em;color: black;border-radius: 0.25em;background-color: #f0f8ff;}#sk-container-id-9 input.sk-toggleable__control:checked~div.sk-toggleable__content {max-height: 200px;max-width: 100%;overflow: auto;}#sk-container-id-9 input.sk-toggleable__control:checked~label.sk-toggleable__label-arrow:before {content: \"▾\";}#sk-container-id-9 div.sk-estimator input.sk-toggleable__control:checked~label.sk-toggleable__label {background-color: #d4ebff;}#sk-container-id-9 div.sk-label input.sk-toggleable__control:checked~label.sk-toggleable__label {background-color: #d4ebff;}#sk-container-id-9 input.sk-hidden--visually {border: 0;clip: rect(1px 1px 1px 1px);clip: rect(1px, 1px, 1px, 1px);height: 1px;margin: -1px;overflow: hidden;padding: 0;position: absolute;width: 1px;}#sk-container-id-9 div.sk-estimator {font-family: monospace;background-color: #f0f8ff;border: 1px dotted black;border-radius: 0.25em;box-sizing: border-box;margin-bottom: 0.5em;}#sk-container-id-9 div.sk-estimator:hover {background-color: #d4ebff;}#sk-container-id-9 div.sk-parallel-item::after {content: \"\";width: 100%;border-bottom: 1px solid gray;flex-grow: 1;}#sk-container-id-9 div.sk-label:hover label.sk-toggleable__label {background-color: #d4ebff;}#sk-container-id-9 div.sk-serial::before {content: \"\";position: absolute;border-left: 1px solid gray;box-sizing: border-box;top: 0;bottom: 0;left: 50%;z-index: 0;}#sk-container-id-9 div.sk-serial {display: flex;flex-direction: column;align-items: center;background-color: white;padding-right: 0.2em;padding-left: 0.2em;position: relative;}#sk-container-id-9 div.sk-item {position: relative;z-index: 1;}#sk-container-id-9 div.sk-parallel {display: flex;align-items: stretch;justify-content: center;background-color: white;position: relative;}#sk-container-id-9 div.sk-item::before, #sk-container-id-9 div.sk-parallel-item::before {content: \"\";position: absolute;border-left: 1px solid gray;box-sizing: border-box;top: 0;bottom: 0;left: 50%;z-index: -1;}#sk-container-id-9 div.sk-parallel-item {display: flex;flex-direction: column;z-index: 1;position: relative;background-color: white;}#sk-container-id-9 div.sk-parallel-item:first-child::after {align-self: flex-end;width: 50%;}#sk-container-id-9 div.sk-parallel-item:last-child::after {align-self: flex-start;width: 50%;}#sk-container-id-9 div.sk-parallel-item:only-child::after {width: 0;}#sk-container-id-9 div.sk-dashed-wrapped {border: 1px dashed gray;margin: 0 0.4em 0.5em 0.4em;box-sizing: border-box;padding-bottom: 0.4em;background-color: white;}#sk-container-id-9 div.sk-label label {font-family: monospace;font-weight: bold;display: inline-block;line-height: 1.2em;}#sk-container-id-9 div.sk-label-container {text-align: center;}#sk-container-id-9 div.sk-container {/* jupyter's `normalize.less` sets `[hidden] { display: none; }` but bootstrap.min.css set `[hidden] { display: none !important; }` so we also need the `!important` here to be able to override the default hidden behavior on the sphinx rendered scikit-learn.org. See: https://github.com/scikit-learn/scikit-learn/issues/21755 */display: inline-block !important;position: relative;}#sk-container-id-9 div.sk-text-repr-fallback {display: none;}</style><div id=\"sk-container-id-9\" class=\"sk-top-container\"><div class=\"sk-text-repr-fallback\"><pre>LinearRegression()</pre><b>In a Jupyter environment, please rerun this cell to show the HTML representation or trust the notebook. <br />On GitHub, the HTML representation is unable to render, please try loading this page with nbviewer.org.</b></div><div class=\"sk-container\" hidden><div class=\"sk-item\"><div class=\"sk-estimator sk-toggleable\"><input class=\"sk-toggleable__control sk-hidden--visually\" id=\"sk-estimator-id-9\" type=\"checkbox\" checked><label for=\"sk-estimator-id-9\" class=\"sk-toggleable__label sk-toggleable__label-arrow\">LinearRegression</label><div class=\"sk-toggleable__content\"><pre>LinearRegression()</pre></div></div></div></div></div>"
          },
          "metadata": {}
        }
      ],
      "execution_count": 57
    },
    {
      "cell_type": "code",
      "source": "model.score(X_test,y_test)*100",
      "metadata": {
        "trusted": true
      },
      "outputs": [
        {
          "execution_count": 60,
          "output_type": "execute_result",
          "data": {
            "text/plain": "63.46886321866725"
          },
          "metadata": {}
        }
      ],
      "execution_count": 60
    }
  ]
}